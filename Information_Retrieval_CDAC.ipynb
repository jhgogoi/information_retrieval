{
  "cells": [
    {
      "cell_type": "markdown",
      "metadata": {
        "id": "view-in-github",
        "colab_type": "text"
      },
      "source": [
        "<a href=\"https://colab.research.google.com/github/jhgogoi/information_retrieval/blob/main/Information_Retrieval_CDAC.ipynb\" target=\"_parent\"><img src=\"https://colab.research.google.com/assets/colab-badge.svg\" alt=\"Open In Colab\"/></a>"
      ]
    },
    {
      "cell_type": "markdown",
      "id": "4b946b08",
      "metadata": {
        "id": "4b946b08"
      },
      "source": [
        "# Information Retrieval"
      ]
    },
    {
      "cell_type": "code",
      "execution_count": null,
      "id": "a54792f5",
      "metadata": {
        "scrolled": true,
        "id": "a54792f5"
      },
      "outputs": [],
      "source": [
        "import os\n",
        "import nltk\n",
        "import re\n",
        "from nltk.tokenize import word_tokenize\n",
        "from nltk.corpus import stopwords\n",
        "from nltk.stem import WordNetLemmatizer\n",
        "from nltk.stem.porter import PorterStemmer\n",
        "from nltk.corpus import wordnet as wn\n",
        "from sklearn.feature_extraction.text import CountVectorizer\n",
        "from sklearn.metrics.pairwise import cosine_similarity\n",
        "from sklearn.feature_extraction.text import TfidfVectorizer"
      ]
    },
    {
      "cell_type": "code",
      "execution_count": null,
      "id": "b7e2cfde",
      "metadata": {
        "id": "b7e2cfde"
      },
      "outputs": [],
      "source": [
        "def read_content(file_path):\n",
        "        try:\n",
        "            with open(file_path, \"r\", encoding = 'utf8') as content:\n",
        "                return content.read()\n",
        "        except FileNotFoundError:\n",
        "            return f\"File not found: {file_path}\"\n",
        "        except PermissionError:\n",
        "            return f\"Permission error reading: {file_path}\"\n",
        "\n",
        "def QueryExpansion(Q):\n",
        "    Qt= Q.split()\n",
        "    Expan=[]\n",
        "    for qt in Qt:\n",
        "        for syn in wn.synsets(qt):\n",
        "            Expan.extend(syn.lemma_names())\n",
        "    return \" \" .join(list(set(Expan)))\n",
        "\n",
        "def tokenize_content(content):\n",
        "    return word_tokenize(content.lower())\n",
        "\n",
        "\n",
        "def remove_stopwords(tokens):\n",
        "    stop_words = set(stopwords.words('english'))\n",
        "    return [word for word in tokens if word.lower() not in stop_words and word.isalpha()]\n",
        "\n",
        "\n",
        "def lemmatize_tokens(tokens):\n",
        "    lemmatizer = WordNetLemmatizer()\n",
        "    return [lemmatizer.lemmatize(token) for token in tokens]\n",
        "\n",
        "\n",
        "def Stemming(tokens):\n",
        "    stemmer = PorterStemmer()\n",
        "    return [stemmer.stem(plural) for plural in tokens]\n",
        "\n",
        "\n",
        "def preprocess(file_content):\n",
        "    tokens = tokenize_content(file_content)\n",
        "    filtered_tokens = remove_stopwords(tokens)\n",
        "    lemmatized_tokens = lemmatize_tokens(filtered_tokens)\n",
        "    Stem_tokens = Stemming(lemmatized_tokens)\n",
        "    return \" \".join(Stem_tokens)\n",
        "\n",
        "# Print the original tokens, filtered tokens, and lemmatized tokens of the second file in the lists\n"
      ]
    },
    {
      "cell_type": "code",
      "execution_count": null,
      "id": "16018226",
      "metadata": {
        "id": "16018226"
      },
      "outputs": [],
      "source": [
        "Folder = \"D:\\\\Bunty\\\\CDAC\\\\Project\"\n",
        "Contents = []\n",
        "FilePaths = []\n",
        "Tokens = []\n",
        "FilteredTokens = []\n",
        "LemmatizedTokens = []\n",
        "\n",
        "\n",
        "for root, dirs, files in os.walk(Folder):\n",
        "    for file in files:\n",
        "        file_path = os.path.join(root, file)\n",
        "        FilePaths.append(file_path)\n",
        "        file_content = read_content(file_path)\n",
        "        filter_token = preprocess(file_content)\n",
        "        Contents.append(filter_token)\n",
        "\n",
        "\n",
        "#print(\"File Path:\", FilePaths)\n",
        "#print(\"\\nContent:\", Contents)\n",
        "\n",
        "# Print the file path, content.\n",
        "\n"
      ]
    },
    {
      "cell_type": "code",
      "execution_count": null,
      "id": "2eaff929",
      "metadata": {
        "scrolled": true,
        "id": "2eaff929",
        "outputId": "ec1bf931-523b-4d4d-e8a8-4eedf0ac4fcd"
      },
      "outputs": [
        {
          "name": "stdout",
          "output_type": "stream",
          "text": [
            "Enter your Query:startup investor capital\n",
            "Original Query: startup investor capital\n",
            "Expanded Preprocessed Query: uppercas startup capit washington chapit cap inaugur great capit investor majuscul\n"
          ]
        }
      ],
      "source": [
        "query = input(\"Enter your Query:\")\n",
        "print(\"Original Query:\", query)\n",
        "query=QueryExpansion(query)\n",
        "query=preprocess(query)\n",
        "\n",
        "\n",
        "print(\"Expanded Preprocessed Query:\", query)\n",
        "\n"
      ]
    },
    {
      "cell_type": "code",
      "execution_count": null,
      "id": "14dc4a0f",
      "metadata": {
        "id": "14dc4a0f",
        "outputId": "2490c0f8-bbfe-440f-d59e-5e8b1fda62aa"
      },
      "outputs": [
        {
          "name": "stdout",
          "output_type": "stream",
          "text": [
            "Most Similar Document:\n",
            "Document 21:D:\\Bunty\\CDAC\\Project\\Finance\\Finance B\\2 Corporate Finance.txt\n"
          ]
        }
      ],
      "source": [
        "vectorizer = CountVectorizer()\n",
        "\n",
        "vectors2 = vectorizer.fit_transform(Contents+[query])\n",
        "\n",
        "cosine_similarities1 = cosine_similarity(vectors2[-1], vectors2[:-1])\n",
        "\n",
        "most_similar_index = cosine_similarities1.argmax()\n",
        "\n",
        "most_similar_document = f\"Document {most_similar_index + 1}:{FilePaths[most_similar_index]}\" # f - for what?\n",
        "print(\"Most Similar Document:\")\n",
        "print(most_similar_document)\n"
      ]
    },
    {
      "cell_type": "code",
      "execution_count": null,
      "id": "fe9e826b",
      "metadata": {
        "scrolled": true,
        "id": "fe9e826b",
        "outputId": "ed1bc718-21b7-4e33-be30-6505bc49aff9"
      },
      "outputs": [
        {
          "name": "stdout",
          "output_type": "stream",
          "text": [
            "cos sim: [[0.         0.         0.         0.         0.         0.\n",
            "  0.         0.         0.         0.         0.         0.\n",
            "  0.         0.         0.         0.         0.         0.\n",
            "  0.043993   0.         0.12397933 0.        ]]\n"
          ]
        }
      ],
      "source": [
        "trainset = [query]+ Contents\n",
        "\n",
        "tfidf_vectorizer = TfidfVectorizer()\n",
        "\n",
        "tfidf_matrix_train = tfidf_vectorizer.fit_transform(trainset)\n",
        "\n",
        "\n",
        "print(\"cos sim:\",cosine_similarity(tfidf_matrix_train[0:1],tfidf_matrix_train[1:]))\n"
      ]
    },
    {
      "cell_type": "code",
      "execution_count": null,
      "id": "f3349a7b",
      "metadata": {
        "id": "f3349a7b",
        "outputId": "7427266d-c20e-45d8-dad9-ec718b76109f"
      },
      "outputs": [
        {
          "name": "stdout",
          "output_type": "stream",
          "text": [
            "Most Similar Document:\n",
            "Document 21:D:\\Bunty\\CDAC\\Project\\Finance\\Finance B\\2 Corporate Finance.txt\n",
            "0.1239793330576185\n",
            "corpor financ corpor financ refer financi activ relat run corpor divis depart usual set overse financi activ exampl larg compani may decid whether rais addit fund bond issu stock offer invest bank may advis firm consider help market secur \u001b[44;33mstartup\u001b[m may receiv \u001b[44;33mcapit\u001b[m angel \u001b[44;33minvestor\u001b[m ventur capitalist exchang percentag ownership compani thrive decid go public issu share stock exchang initi public offer ipo rais cash case budget \u001b[44;33mcapit\u001b[m properli effect compani growth goal may need decid project financ put hold type decis fall corpor financ\n"
          ]
        }
      ],
      "source": [
        "cosine_similarities2 = cosine_similarity(tfidf_matrix_train[0:1],tfidf_matrix_train[1:])\n",
        "\n",
        "most_similar_index = cosine_similarities2.argmax()\n",
        "\n",
        "most_similar_document = f\"Document {most_similar_index + 1}:{FilePaths[most_similar_index]}\"\n",
        "print(\"Most Similar Document:\")\n",
        "print(most_similar_document)\n",
        "print(cosine_similarities2[0][most_similar_index])\n",
        "\n",
        "#print(Contents[most_similar_index])\n",
        "\n",
        "text_main = Contents[most_similar_index]\n",
        "highlight_list = query.split()\n",
        "highlight_str = r\"\\b(?:\" + '|'.join(highlight_list) + r\")\\b\"\n",
        "text_highlight = re.sub(highlight_str, '\\033[44;33m\\g<0>\\033[m', text_main)\n",
        "print(text_highlight)\n"
      ]
    },
    {
      "cell_type": "code",
      "execution_count": null,
      "id": "b2af7b24",
      "metadata": {
        "id": "b2af7b24"
      },
      "outputs": [],
      "source": []
    }
  ],
  "metadata": {
    "kernelspec": {
      "display_name": "Python 3 (ipykernel)",
      "language": "python",
      "name": "python3"
    },
    "language_info": {
      "codemirror_mode": {
        "name": "ipython",
        "version": 3
      },
      "file_extension": ".py",
      "mimetype": "text/x-python",
      "name": "python",
      "nbconvert_exporter": "python",
      "pygments_lexer": "ipython3",
      "version": "3.11.5"
    },
    "colab": {
      "provenance": [],
      "include_colab_link": true
    }
  },
  "nbformat": 4,
  "nbformat_minor": 5
}