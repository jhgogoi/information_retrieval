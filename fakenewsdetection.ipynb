{
  "nbformat": 4,
  "nbformat_minor": 0,
  "metadata": {
    "colab": {
      "provenance": [],
      "include_colab_link": true
    },
    "kernelspec": {
      "name": "python3",
      "display_name": "Python 3"
    },
    "language_info": {
      "name": "python"
    }
  },
  "cells": [
    {
      "cell_type": "markdown",
      "metadata": {
        "id": "view-in-github",
        "colab_type": "text"
      },
      "source": [
        "<a href=\"https://colab.research.google.com/github/jhgogoi/information_retrieval/blob/main/fakenewsdetection.ipynb\" target=\"_parent\"><img src=\"https://colab.research.google.com/assets/colab-badge.svg\" alt=\"Open In Colab\"/></a>"
      ]
    },
    {
      "cell_type": "code",
      "execution_count": null,
      "metadata": {
        "id": "WuBl-NHmkCUn"
      },
      "outputs": [],
      "source": [
        "import pandas as pd\n",
        "import numpy as np\n",
        "import seaborn as sns\n",
        "import matplotlib.pyplot as plt\n",
        "from sklearn.model_selection import train_test_split\n",
        "from sklearn.metrics import accuracy_score\n",
        "from sklearn.metrics import classification_report\n",
        "import re\n",
        "import string"
      ]
    },
    {
      "cell_type": "code",
      "source": [
        "import pandas as pd\n",
        "\n",
        "# Load the CSV file\n",
        "data = pd.read_csv('/content/news.csv')\n"
      ],
      "metadata": {
        "id": "ENMNA6O4JFFX"
      },
      "execution_count": null,
      "outputs": []
    },
    {
      "cell_type": "code",
      "source": [
        "# Preprocessing steps (example)\n",
        "data.dropna(inplace=True)  # Drop rows with missing values\n",
        "\n",
        "\n"
      ],
      "metadata": {
        "id": "LW7NM4vt9CsE"
      },
      "execution_count": null,
      "outputs": []
    },
    {
      "cell_type": "code",
      "source": [
        "# Assuming 'data' is your DataFrame with only 'title' column\n",
        "\n",
        "# Create a new 'text' column by combining 'title'\n",
        "data['text'] = data['title'].astype(str)\n",
        "\n",
        "#The 'title' column likely contains textual information that is relevant to your analysis or modeling task.\n",
        "#By creating a new column 'text' that combines the 'title' column, you are consolidating the textual information into a single column.\n",
        "#This can be useful for certain natural language processing (NLP) tasks or machine learning models that require text input\n",
        "#Combining text from multiple columns is a form of data preprocessing. It prepares the data for further analysis or modeling by organizing relevant information in a structured way.\n",
        "#The 'text' column then becomes the input feature for your model.\n",
        "print(data.head())\n"
      ],
      "metadata": {
        "colab": {
          "base_uri": "https://localhost:8080/"
        },
        "id": "Oji6ptJFYPo3",
        "outputId": "3322fe1c-2563-4648-f371-9f0ced805484"
      },
      "execution_count": null,
      "outputs": [
        {
          "output_type": "stream",
          "name": "stdout",
          "text": [
            "                                               title  label  \\\n",
            "0                   PM villainizes Muslims yet again      1   \n",
            "1  ?Muslim League? to ?Wealth distribution?: Modi...      0   \n",
            "2  Ram Navami: Right Wing users amplify Ranchi Po...      1   \n",
            "3  Fake Dainik Bhaskar clip with survey showing I...      1   \n",
            "4  \"BJP MP Nirahua said ?Modiji & Yogiji curbed u...      1   \n",
            "\n",
            "                                                text  \n",
            "0                   PM villainizes Muslims yet again  \n",
            "1  ?Muslim League? to ?Wealth distribution?: Modi...  \n",
            "2  Ram Navami: Right Wing users amplify Ranchi Po...  \n",
            "3  Fake Dainik Bhaskar clip with survey showing I...  \n",
            "4  \"BJP MP Nirahua said ?Modiji & Yogiji curbed u...  \n"
          ]
        }
      ]
    },
    {
      "cell_type": "code",
      "source": [
        "import pandas as pd\n",
        "from sklearn.model_selection import train_test_split\n",
        "\n",
        "# load data from a CSV file into a pandas DataFrame, combine columns, and split the data into training and testing sets using scikit-learn's train_test_split function\n",
        "\n",
        "# Assuming you have a dataframe 'data' with 'title', 'content', and 'label' columns\n",
        "# Load your data into a dataframe\n",
        "data = pd.read_csv('/content/news.csv')\n",
        "\n",
        "# Check the structure of your dataframe\n",
        "print(data.head())\n",
        "\n",
        "# Combine 'title' and 'content' columns to create the 'text' column\n",
        "data['text'] = data['title'].astype(str)\n",
        "\n",
        "# Split the data into training and testing sets\n",
        "X_train, X_test, y_train, y_test = train_test_split(data['text'], data['label'], test_size=0.2, random_state=42)\n",
        "#Specifies that 20% of the data should be used for testing, and 80% for training.\n",
        "#Sets a random seed for reproducibility, ensuring that the data split is the same each time the code is run.\n"
      ],
      "metadata": {
        "colab": {
          "base_uri": "https://localhost:8080/"
        },
        "id": "u0Fl9x1iGY5A",
        "outputId": "186ac22c-161b-43a0-b8f9-db61bc1eb946"
      },
      "execution_count": null,
      "outputs": [
        {
          "output_type": "stream",
          "name": "stdout",
          "text": [
            "                                               title  label\n",
            "0                   PM villainizes Muslims yet again      1\n",
            "1  ?Muslim League? to ?Wealth distribution?: Modi...      0\n",
            "2  Ram Navami: Right Wing users amplify Ranchi Po...      1\n",
            "3  Fake Dainik Bhaskar clip with survey showing I...      1\n",
            "4  \"BJP MP Nirahua said ?Modiji & Yogiji curbed u...      1\n"
          ]
        }
      ]
    },
    {
      "cell_type": "code",
      "source": [
        "from sklearn.impute import SimpleImputer\n",
        "from sklearn.feature_extraction.text import TfidfVectorizer\n",
        "from sklearn.model_selection import train_test_split\n",
        "from sklearn.pipeline import Pipeline\n",
        "from sklearn.naive_bayes import MultinomialNB\n",
        "from sklearn.metrics import accuracy_score, precision_score, recall_score\n",
        "\n",
        "# Reshape X_train to 2D array\n",
        "X_train_reshaped = X_train.values.reshape(-1, 1)\n",
        "\n",
        "# Fill NaN values in X_train with an empty string\n",
        "imputer = SimpleImputer(strategy='constant', fill_value='')\n",
        "X_train_filled = imputer.fit_transform(X_train_reshaped)\n",
        "\n",
        "# Initialize TF-IDF Vectorizer\n",
        "tfidf_vectorizer = TfidfVectorizer(max_features=10000)\n",
        "#Initializes a TF-IDF Vectorizer object with a maximum of 10,000 features.\n",
        "#TF-IDF (Term Frequency-Inverse Document Frequency) is a technique used to convert text data into numerical vectors suitable for machine learning models.\n",
        "\n",
        "# Fit and transform the training data\n",
        "X_train_tfidf = tfidf_vectorizer.fit_transform(X_train_filled.ravel())\n",
        "\n",
        "# Initialize Multinomial Naive Bayes classifier\n",
        "model = MultinomialNB()\n",
        "# Initializes a Multinomial Naive Bayes (NB) classifier. NB is commonly used for text classification tasks, especially when dealing with multiple classes.\n",
        "\n",
        "# Fit the model on the training data\n",
        "model.fit(X_train_tfidf, y_train)\n",
        "\n",
        "# Predictions on the testing data\n",
        "X_test_reshaped = X_test.values.reshape(-1, 1)\n",
        "#Reshapes the testing data (X_test) to ensure compatibility with the pipeline\n",
        "X_test_filled = imputer.transform(X_test_reshaped)\n",
        "#Fills any missing values in the reshaped testing data using an imputer (assuming an imputer object is defined earlier)\n",
        "X_test_tfidf = tfidf_vectorizer.transform(X_test_filled.ravel())\n",
        "predictions = model.predict(X_test_tfidf)\n",
        "\n",
        "# Calculate accuracy, precision, and recall\n",
        "#Calculates the accuracy of the model by comparing the predicted labels (predictions) with the actual labels from the testing data (y_test)\n",
        "accuracy = accuracy_score(y_test, predictions)\n",
        "precision = precision_score(y_test, predictions)\n",
        "recall = recall_score(y_test, predictions)\n",
        "\n",
        "print(\"Accuracy:\", accuracy)\n",
        "print(\"Precision:\", precision)\n",
        "print(\"Recall:\", recall)\n"
      ],
      "metadata": {
        "colab": {
          "base_uri": "https://localhost:8080/"
        },
        "id": "WbY66mgOJVDK",
        "outputId": "574ec08c-74ae-4fa8-d7eb-e6d5329ac937"
      },
      "execution_count": null,
      "outputs": [
        {
          "output_type": "stream",
          "name": "stdout",
          "text": [
            "Accuracy: 0.5380952380952381\n",
            "Precision: 0.5698924731182796\n",
            "Recall: 0.4818181818181818\n"
          ]
        }
      ]
    },
    {
      "cell_type": "code",
      "source": [
        "from sklearn.linear_model import LogisticRegression\n",
        "\n",
        "# Initialize and train the model\n",
        "model = LogisticRegression()\n",
        "model.fit(X_train_tfidf, y_train)\n"
      ],
      "metadata": {
        "colab": {
          "base_uri": "https://localhost:8080/",
          "height": 75
        },
        "id": "jbv57TMqYlGa",
        "outputId": "208221b4-8a08-4a1f-cb3e-b563c1ceb5bf"
      },
      "execution_count": null,
      "outputs": [
        {
          "output_type": "execute_result",
          "data": {
            "text/plain": [
              "LogisticRegression()"
            ],
            "text/html": [
              "<style>#sk-container-id-1 {color: black;background-color: white;}#sk-container-id-1 pre{padding: 0;}#sk-container-id-1 div.sk-toggleable {background-color: white;}#sk-container-id-1 label.sk-toggleable__label {cursor: pointer;display: block;width: 100%;margin-bottom: 0;padding: 0.3em;box-sizing: border-box;text-align: center;}#sk-container-id-1 label.sk-toggleable__label-arrow:before {content: \"▸\";float: left;margin-right: 0.25em;color: #696969;}#sk-container-id-1 label.sk-toggleable__label-arrow:hover:before {color: black;}#sk-container-id-1 div.sk-estimator:hover label.sk-toggleable__label-arrow:before {color: black;}#sk-container-id-1 div.sk-toggleable__content {max-height: 0;max-width: 0;overflow: hidden;text-align: left;background-color: #f0f8ff;}#sk-container-id-1 div.sk-toggleable__content pre {margin: 0.2em;color: black;border-radius: 0.25em;background-color: #f0f8ff;}#sk-container-id-1 input.sk-toggleable__control:checked~div.sk-toggleable__content {max-height: 200px;max-width: 100%;overflow: auto;}#sk-container-id-1 input.sk-toggleable__control:checked~label.sk-toggleable__label-arrow:before {content: \"▾\";}#sk-container-id-1 div.sk-estimator input.sk-toggleable__control:checked~label.sk-toggleable__label {background-color: #d4ebff;}#sk-container-id-1 div.sk-label input.sk-toggleable__control:checked~label.sk-toggleable__label {background-color: #d4ebff;}#sk-container-id-1 input.sk-hidden--visually {border: 0;clip: rect(1px 1px 1px 1px);clip: rect(1px, 1px, 1px, 1px);height: 1px;margin: -1px;overflow: hidden;padding: 0;position: absolute;width: 1px;}#sk-container-id-1 div.sk-estimator {font-family: monospace;background-color: #f0f8ff;border: 1px dotted black;border-radius: 0.25em;box-sizing: border-box;margin-bottom: 0.5em;}#sk-container-id-1 div.sk-estimator:hover {background-color: #d4ebff;}#sk-container-id-1 div.sk-parallel-item::after {content: \"\";width: 100%;border-bottom: 1px solid gray;flex-grow: 1;}#sk-container-id-1 div.sk-label:hover label.sk-toggleable__label {background-color: #d4ebff;}#sk-container-id-1 div.sk-serial::before {content: \"\";position: absolute;border-left: 1px solid gray;box-sizing: border-box;top: 0;bottom: 0;left: 50%;z-index: 0;}#sk-container-id-1 div.sk-serial {display: flex;flex-direction: column;align-items: center;background-color: white;padding-right: 0.2em;padding-left: 0.2em;position: relative;}#sk-container-id-1 div.sk-item {position: relative;z-index: 1;}#sk-container-id-1 div.sk-parallel {display: flex;align-items: stretch;justify-content: center;background-color: white;position: relative;}#sk-container-id-1 div.sk-item::before, #sk-container-id-1 div.sk-parallel-item::before {content: \"\";position: absolute;border-left: 1px solid gray;box-sizing: border-box;top: 0;bottom: 0;left: 50%;z-index: -1;}#sk-container-id-1 div.sk-parallel-item {display: flex;flex-direction: column;z-index: 1;position: relative;background-color: white;}#sk-container-id-1 div.sk-parallel-item:first-child::after {align-self: flex-end;width: 50%;}#sk-container-id-1 div.sk-parallel-item:last-child::after {align-self: flex-start;width: 50%;}#sk-container-id-1 div.sk-parallel-item:only-child::after {width: 0;}#sk-container-id-1 div.sk-dashed-wrapped {border: 1px dashed gray;margin: 0 0.4em 0.5em 0.4em;box-sizing: border-box;padding-bottom: 0.4em;background-color: white;}#sk-container-id-1 div.sk-label label {font-family: monospace;font-weight: bold;display: inline-block;line-height: 1.2em;}#sk-container-id-1 div.sk-label-container {text-align: center;}#sk-container-id-1 div.sk-container {/* jupyter's `normalize.less` sets `[hidden] { display: none; }` but bootstrap.min.css set `[hidden] { display: none !important; }` so we also need the `!important` here to be able to override the default hidden behavior on the sphinx rendered scikit-learn.org. See: https://github.com/scikit-learn/scikit-learn/issues/21755 */display: inline-block !important;position: relative;}#sk-container-id-1 div.sk-text-repr-fallback {display: none;}</style><div id=\"sk-container-id-1\" class=\"sk-top-container\"><div class=\"sk-text-repr-fallback\"><pre>LogisticRegression()</pre><b>In a Jupyter environment, please rerun this cell to show the HTML representation or trust the notebook. <br />On GitHub, the HTML representation is unable to render, please try loading this page with nbviewer.org.</b></div><div class=\"sk-container\" hidden><div class=\"sk-item\"><div class=\"sk-estimator sk-toggleable\"><input class=\"sk-toggleable__control sk-hidden--visually\" id=\"sk-estimator-id-1\" type=\"checkbox\" checked><label for=\"sk-estimator-id-1\" class=\"sk-toggleable__label sk-toggleable__label-arrow\">LogisticRegression</label><div class=\"sk-toggleable__content\"><pre>LogisticRegression()</pre></div></div></div></div></div>"
            ]
          },
          "metadata": {},
          "execution_count": 7
        }
      ]
    },
    {
      "cell_type": "code",
      "source": [
        "from sklearn.metrics import accuracy_score, classification_report\n",
        "\n",
        "# Predictions on the testing set\n",
        "y_pred = model.predict(X_test_tfidf)\n",
        "\n",
        "# Calculate accuracy\n",
        "accuracy = accuracy_score(y_test, y_pred)\n",
        "print(\"Accuracy:\", accuracy)\n",
        "\n",
        "# Classification report\n",
        "print(classification_report(y_test, y_pred))\n"
      ],
      "metadata": {
        "colab": {
          "base_uri": "https://localhost:8080/"
        },
        "id": "XZZ0CPajY1xq",
        "outputId": "77a42cfc-fc70-448f-fcc1-7766c1ffb599"
      },
      "execution_count": null,
      "outputs": [
        {
          "output_type": "stream",
          "name": "stdout",
          "text": [
            "Accuracy: 0.5238095238095238\n",
            "              precision    recall  f1-score   support\n",
            "\n",
            "           0       0.50      0.60      0.55       100\n",
            "           1       0.56      0.45      0.50       110\n",
            "\n",
            "    accuracy                           0.52       210\n",
            "   macro avg       0.53      0.53      0.52       210\n",
            "weighted avg       0.53      0.52      0.52       210\n",
            "\n"
          ]
        }
      ]
    },
    {
      "cell_type": "code",
      "source": [
        "# Example of real-time prediction\n",
        "new_article = \" Ram Navami: Right Wing users amplify Ranchi \"\n",
        "new_article_tfidf = tfidf_vectorizer.transform([new_article])\n",
        "prediction = model.predict(new_article_tfidf)\n",
        "print(\"Predicted Label:\", prediction)\n"
      ],
      "metadata": {
        "colab": {
          "base_uri": "https://localhost:8080/"
        },
        "id": "MnAAtmvaY77T",
        "outputId": "a0388a51-1ad2-4859-b30c-5e263a8b3569"
      },
      "execution_count": null,
      "outputs": [
        {
          "output_type": "stream",
          "name": "stdout",
          "text": [
            "Predicted Label: [1]\n"
          ]
        }
      ]
    },
    {
      "cell_type": "code",
      "source": [
        "# Import necessary libraries\n",
        "from sklearn.model_selection import train_test_split\n",
        "from sklearn.feature_extraction.text import TfidfVectorizer\n",
        "from sklearn.linear_model import LogisticRegression\n",
        "from sklearn.metrics import accuracy_score, precision_score, recall_score, f1_score\n",
        "\n",
        "# Step 1: Split the data into training and testing sets\n",
        "# Assuming you have a DataFrame named 'data' with columns 'text' and 'label'\n",
        "X = data['text']\n",
        "y = data['label']\n",
        "\n",
        "X_train, X_test, y_train, y_test = train_test_split(X, y, test_size=0.2, random_state=42)\n",
        "\n",
        "# Step 2: Vectorize the text data using TF-IDF\n",
        "tfidf_vectorizer = TfidfVectorizer()\n",
        "X_train_tfidf = tfidf_vectorizer.fit_transform(X_train)\n",
        "X_test_tfidf = tfidf_vectorizer.transform(X_test)\n",
        "\n",
        "# Step 3: Train a Logistic Regression classifier\n",
        "classifier = LogisticRegression()\n",
        "classifier.fit(X_train_tfidf, y_train)\n",
        "\n",
        "# Step 4: Evaluate the model's performance on the testing data\n",
        "y_pred = classifier.predict(X_test_tfidf)\n",
        "\n",
        "accuracy = accuracy_score(y_test, y_pred)\n",
        "precision = precision_score(y_test, y_pred)\n",
        "recall = recall_score(y_test, y_pred)\n",
        "f1 = f1_score(y_test, y_pred)\n",
        "\n",
        "print(\"Accuracy:\", accuracy)\n",
        "print(\"Precision:\", precision)\n",
        "print(\"Recall:\", recall)\n",
        "print(\"F1 Score:\", f1)\n",
        "\n",
        "# Step 5: Use the trained model to predict the authenticity of news\n",
        "def predict_news_authenticity(news_text):\n",
        "    news_tfidf = tfidf_vectorizer.transform([news_text])\n",
        "    prediction = classifier.predict(news_tfidf)\n",
        "    return \"True\" if prediction[0] == 1 else \"False\"\n",
        "\n",
        "# Example usage:\n",
        "news_text = \"BJP MP Nirahua said, ‘Modiji & Yogiji curbed unemployment by not having children.’ The video is NOT a deepfake\"\n",
        "prediction = predict_news_authenticity(news_text)\n",
        "print(\"Predicted authenticity:\", prediction)\n"
      ],
      "metadata": {
        "colab": {
          "base_uri": "https://localhost:8080/"
        },
        "id": "Tgofi5EweqW2",
        "outputId": "7b02da21-ceed-4623-ada5-3ae483614ba6"
      },
      "execution_count": null,
      "outputs": [
        {
          "output_type": "stream",
          "name": "stdout",
          "text": [
            "Accuracy: 0.5238095238095238\n",
            "Precision: 0.5555555555555556\n",
            "Recall: 0.45454545454545453\n",
            "F1 Score: 0.5\n",
            "Predicted authenticity: True\n"
          ]
        }
      ]
    },
    {
      "cell_type": "code",
      "source": [
        "# Import necessary libraries\n",
        "from sklearn.model_selection import train_test_split\n",
        "from sklearn.feature_extraction.text import TfidfVectorizer\n",
        "from sklearn.linear_model import LogisticRegression\n",
        "from sklearn.metrics import accuracy_score, precision_score, recall_score, f1_score\n",
        "\n",
        "# Step 1: Split the data into training and testing sets\n",
        "# Assuming you have a DataFrame named 'data' with columns 'text' and 'label'\n",
        "X = data['text']\n",
        "y = data['label']\n",
        "\n",
        "X_train, X_test, y_train, y_test = train_test_split(X, y, test_size=0.2, random_state=42)\n",
        "\n",
        "# Step 2: Vectorize the text data using TF-IDF\n",
        "tfidf_vectorizer = TfidfVectorizer()\n",
        "X_train_tfidf = tfidf_vectorizer.fit_transform(X_train)\n",
        "X_test_tfidf = tfidf_vectorizer.transform(X_test)\n",
        "\n",
        "# Step 3: Train a Logistic Regression classifier\n",
        "classifier = LogisticRegression()\n",
        "classifier.fit(X_train_tfidf, y_train)\n",
        "\n",
        "# Step 4: Evaluate the model's performance on the testing data\n",
        "y_pred = classifier.predict(X_test_tfidf)\n",
        "\n",
        "accuracy = accuracy_score(y_test, y_pred)\n",
        "precision = precision_score(y_test, y_pred)\n",
        "recall = recall_score(y_test, y_pred)\n",
        "f1 = f1_score(y_test, y_pred)\n",
        "\n",
        "print(\"Accuracy:\", accuracy)\n",
        "print(\"Precision:\", precision)\n",
        "print(\"Recall:\", recall)\n",
        "print(\"F1 Score:\", f1)\n",
        "\n",
        "# Step 5: Use the trained model to predict the authenticity of news\n",
        "def predict_news_authenticity(news_text):\n",
        "    news_tfidf = tfidf_vectorizer.transform([news_text])\n",
        "    prediction = classifier.predict(news_tfidf)\n",
        "    return \"True\" if prediction[0] == 1 else \"False\"\n",
        "\n",
        "# Example usage:\n",
        "news_text = \"PM Modi Misquotes Manmohan Singh’s 'First Claim On Resources' Remark\"\n",
        "prediction = predict_news_authenticity(news_text)\n",
        "print(\"Predicted authenticity:\", prediction)\n"
      ],
      "metadata": {
        "colab": {
          "base_uri": "https://localhost:8080/"
        },
        "id": "hnTK8Vs7lXob",
        "outputId": "2dfe2ddc-a1ac-457f-8579-e1c0dc53cc9a"
      },
      "execution_count": null,
      "outputs": [
        {
          "output_type": "stream",
          "name": "stdout",
          "text": [
            "Accuracy: 0.5238095238095238\n",
            "Precision: 0.5555555555555556\n",
            "Recall: 0.45454545454545453\n",
            "F1 Score: 0.5\n",
            "Predicted authenticity: False\n"
          ]
        }
      ]
    },
    {
      "cell_type": "code",
      "source": [
        "from sklearn.metrics import confusion_matrix\n",
        "\n",
        "# Assuming y_true and y_pred are your true labels and predicted labels, respectively\n",
        "y_true = [1, 0, 1, 1, 1]\n",
        "y_pred = [1, 0, 1, 1, 1]\n",
        "\n",
        "# Calculate the confusion matrix\n",
        "conf_matrix = confusion_matrix(y_true, y_pred)\n",
        "\n",
        "# Extract values from the confusion matrix\n",
        "true_negatives = conf_matrix[0, 0]\n",
        "false_positives = conf_matrix[0, 1]\n",
        "false_negatives = conf_matrix[1, 0]\n",
        "true_positives = conf_matrix[1, 1]\n",
        "\n",
        "# Calculate metrics\n",
        "accuracy = (true_positives + true_negatives) / (true_positives + false_positives + false_negatives + true_negatives)\n",
        "sensitivity = true_positives / (true_positives + false_negatives)\n",
        "specificity = true_negatives / (true_negatives + false_positives)\n",
        "\n",
        "print(\"Confusion Matrix:\")\n",
        "print(conf_matrix)\n",
        "print(\"Accuracy:\", accuracy)\n",
        "print(\"Sensitivity:\", sensitivity)\n",
        "print(\"Specificity:\", specificity)\n"
      ],
      "metadata": {
        "colab": {
          "base_uri": "https://localhost:8080/"
        },
        "id": "leDJfDU9iq8g",
        "outputId": "ba19eb31-4cfe-4098-ce27-7b4bfe3cf4bc"
      },
      "execution_count": null,
      "outputs": [
        {
          "output_type": "stream",
          "name": "stdout",
          "text": [
            "Confusion Matrix:\n",
            "[[1 0]\n",
            " [0 4]]\n",
            "Accuracy: 1.0\n",
            "Sensitivity: 1.0\n",
            "Specificity: 1.0\n"
          ]
        }
      ]
    }
  ]
}